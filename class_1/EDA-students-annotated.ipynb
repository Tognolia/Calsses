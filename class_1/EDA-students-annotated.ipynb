{
 "cells": [
  {
   "cell_type": "code",
   "execution_count": 1,
   "metadata": {},
   "outputs": [],
   "source": [
    "import pandas as pd\n",
    "import numpy as np\n",
    "pd.set_option('display.max_columns', None)\n",
    "import warnings #does not show any warning\n",
    "warnings.filterwarnings('ignore')"
   ]
  },
  {
   "cell_type": "code",
   "execution_count": 2,
   "metadata": {},
   "outputs": [],
   "source": [
    "#load file with cleaned data from prev lessons using read_csv\n",
    "data = pd.read_csv('merged_clean_health.txt')"
   ]
  },
  {
   "cell_type": "code",
   "execution_count": 3,
   "metadata": {},
   "outputs": [
    {
     "data": {
      "text/plain": [
       "array(['FL', 'IL', 'NC', 'TX', 'CA', 'NV', 'Cali', 'AP', 'MI', 'OK', 'AR',\n",
       "       'IN', 'MT', 'WI', 'MO', 'HI', 'UT', 'GA', 'WA', 'ID', 'CT', 'AL',\n",
       "       'ND', 'SC', 'IA', 'CO', 'LA', 'OR', 'SD', 'TN', 'NM', 'AZ', 'MN',\n",
       "       'KY', 'NJ', 'NE', 'KS', 'California', 'MS', 'NY', 'Arizona', 'WY',\n",
       "       'Tennessee', 'MD', 'AK', 'VA', 'AE', 'AA', 'PA', 'VT', 'WV', 'GU'],\n",
       "      dtype=object)"
      ]
     },
     "execution_count": 3,
     "metadata": {},
     "output_type": "execute_result"
    }
   ],
   "source": [
    "data.head(10)\n",
    "data['state'].unique()"
   ]
  },
  {
   "cell_type": "markdown",
   "metadata": {},
   "source": [
    "### Descriptive Statistics- basics"
   ]
  },
  {
   "cell_type": "raw",
   "metadata": {},
   "source": [
    "Measures of central tendency - Mean, median, mode\n",
    "Measures of spread / dispersion - SD, var, range, quartiles, percentiles\n",
    "Measures of frequency - Frequency\n",
    "Describe function using python"
   ]
  },
  {
   "cell_type": "code",
   "execution_count": 4,
   "metadata": {},
   "outputs": [
    {
     "data": {
      "text/html": [
       "<div>\n",
       "<style scoped>\n",
       "    .dataframe tbody tr th:only-of-type {\n",
       "        vertical-align: middle;\n",
       "    }\n",
       "\n",
       "    .dataframe tbody tr th {\n",
       "        vertical-align: top;\n",
       "    }\n",
       "\n",
       "    .dataframe thead th {\n",
       "        text-align: right;\n",
       "    }\n",
       "</style>\n",
       "<table border=\"1\" class=\"dataframe\">\n",
       "  <thead>\n",
       "    <tr style=\"text-align: right;\">\n",
       "      <th></th>\n",
       "      <th>id</th>\n",
       "      <th>median_home_val</th>\n",
       "      <th>median_household_income</th>\n",
       "      <th>ic2</th>\n",
       "      <th>ic3</th>\n",
       "      <th>ic4</th>\n",
       "      <th>ic5</th>\n",
       "      <th>avggift</th>\n",
       "      <th>target_d</th>\n",
       "    </tr>\n",
       "  </thead>\n",
       "  <tbody>\n",
       "    <tr>\n",
       "      <th>count</th>\n",
       "      <td>3993.000000</td>\n",
       "      <td>3993.000000</td>\n",
       "      <td>3993.000000</td>\n",
       "      <td>3993.000000</td>\n",
       "      <td>3993.000000</td>\n",
       "      <td>3993.000000</td>\n",
       "      <td>3993.000000</td>\n",
       "      <td>3993.000000</td>\n",
       "      <td>3993.000000</td>\n",
       "    </tr>\n",
       "    <tr>\n",
       "      <th>mean</th>\n",
       "      <td>98929.308039</td>\n",
       "      <td>1158.437751</td>\n",
       "      <td>351.622840</td>\n",
       "      <td>400.713248</td>\n",
       "      <td>399.876283</td>\n",
       "      <td>444.732031</td>\n",
       "      <td>16456.413724</td>\n",
       "      <td>11.785117</td>\n",
       "      <td>15.665036</td>\n",
       "    </tr>\n",
       "    <tr>\n",
       "      <th>std</th>\n",
       "      <td>58179.839090</td>\n",
       "      <td>1033.485773</td>\n",
       "      <td>168.488445</td>\n",
       "      <td>180.568500</td>\n",
       "      <td>164.822741</td>\n",
       "      <td>175.004178</td>\n",
       "      <td>9455.318118</td>\n",
       "      <td>10.172672</td>\n",
       "      <td>12.703041</td>\n",
       "    </tr>\n",
       "    <tr>\n",
       "      <th>min</th>\n",
       "      <td>12.000000</td>\n",
       "      <td>0.000000</td>\n",
       "      <td>0.000000</td>\n",
       "      <td>0.000000</td>\n",
       "      <td>0.000000</td>\n",
       "      <td>0.000000</td>\n",
       "      <td>0.000000</td>\n",
       "      <td>2.260870</td>\n",
       "      <td>1.000000</td>\n",
       "    </tr>\n",
       "    <tr>\n",
       "      <th>25%</th>\n",
       "      <td>46153.000000</td>\n",
       "      <td>548.000000</td>\n",
       "      <td>239.000000</td>\n",
       "      <td>284.000000</td>\n",
       "      <td>287.000000</td>\n",
       "      <td>325.000000</td>\n",
       "      <td>11136.000000</td>\n",
       "      <td>7.187500</td>\n",
       "      <td>10.000000</td>\n",
       "    </tr>\n",
       "    <tr>\n",
       "      <th>50%</th>\n",
       "      <td>101432.000000</td>\n",
       "      <td>803.000000</td>\n",
       "      <td>318.000000</td>\n",
       "      <td>366.000000</td>\n",
       "      <td>365.000000</td>\n",
       "      <td>410.000000</td>\n",
       "      <td>14356.000000</td>\n",
       "      <td>10.000000</td>\n",
       "      <td>14.000000</td>\n",
       "    </tr>\n",
       "    <tr>\n",
       "      <th>75%</th>\n",
       "      <td>151653.000000</td>\n",
       "      <td>1349.000000</td>\n",
       "      <td>425.000000</td>\n",
       "      <td>478.000000</td>\n",
       "      <td>480.000000</td>\n",
       "      <td>528.000000</td>\n",
       "      <td>18780.000000</td>\n",
       "      <td>14.428571</td>\n",
       "      <td>20.000000</td>\n",
       "    </tr>\n",
       "    <tr>\n",
       "      <th>max</th>\n",
       "      <td>191779.000000</td>\n",
       "      <td>5982.000000</td>\n",
       "      <td>1500.000000</td>\n",
       "      <td>1500.000000</td>\n",
       "      <td>1311.000000</td>\n",
       "      <td>1331.000000</td>\n",
       "      <td>174523.000000</td>\n",
       "      <td>450.000000</td>\n",
       "      <td>200.000000</td>\n",
       "    </tr>\n",
       "  </tbody>\n",
       "</table>\n",
       "</div>"
      ],
      "text/plain": [
       "                  id  median_home_val  median_household_income          ic2  \\\n",
       "count    3993.000000      3993.000000              3993.000000  3993.000000   \n",
       "mean    98929.308039      1158.437751               351.622840   400.713248   \n",
       "std     58179.839090      1033.485773               168.488445   180.568500   \n",
       "min        12.000000         0.000000                 0.000000     0.000000   \n",
       "25%     46153.000000       548.000000               239.000000   284.000000   \n",
       "50%    101432.000000       803.000000               318.000000   366.000000   \n",
       "75%    151653.000000      1349.000000               425.000000   478.000000   \n",
       "max    191779.000000      5982.000000              1500.000000  1500.000000   \n",
       "\n",
       "               ic3          ic4            ic5      avggift     target_d  \n",
       "count  3993.000000  3993.000000    3993.000000  3993.000000  3993.000000  \n",
       "mean    399.876283   444.732031   16456.413724    11.785117    15.665036  \n",
       "std     164.822741   175.004178    9455.318118    10.172672    12.703041  \n",
       "min       0.000000     0.000000       0.000000     2.260870     1.000000  \n",
       "25%     287.000000   325.000000   11136.000000     7.187500    10.000000  \n",
       "50%     365.000000   410.000000   14356.000000    10.000000    14.000000  \n",
       "75%     480.000000   528.000000   18780.000000    14.428571    20.000000  \n",
       "max    1311.000000  1331.000000  174523.000000   450.000000   200.000000  "
      ]
     },
     "execution_count": 4,
     "metadata": {},
     "output_type": "execute_result"
    }
   ],
   "source": [
    "data.describe()\n",
    "#data.describe(include=[np.number])"
   ]
  },
  {
   "cell_type": "code",
   "execution_count": 5,
   "metadata": {},
   "outputs": [
    {
     "data": {
      "text/html": [
       "<div>\n",
       "<style scoped>\n",
       "    .dataframe tbody tr th:only-of-type {\n",
       "        vertical-align: middle;\n",
       "    }\n",
       "\n",
       "    .dataframe tbody tr th {\n",
       "        vertical-align: top;\n",
       "    }\n",
       "\n",
       "    .dataframe thead th {\n",
       "        text-align: right;\n",
       "    }\n",
       "</style>\n",
       "<table border=\"1\" class=\"dataframe\">\n",
       "  <thead>\n",
       "    <tr style=\"text-align: right;\">\n",
       "      <th></th>\n",
       "      <th>id</th>\n",
       "      <th>median_home_val</th>\n",
       "      <th>median_household_income</th>\n",
       "      <th>ic2</th>\n",
       "      <th>ic3</th>\n",
       "      <th>ic4</th>\n",
       "      <th>ic5</th>\n",
       "      <th>avggift</th>\n",
       "      <th>target_d</th>\n",
       "    </tr>\n",
       "  </thead>\n",
       "  <tbody>\n",
       "    <tr>\n",
       "      <th>count</th>\n",
       "      <td>3993.000000</td>\n",
       "      <td>3993.000000</td>\n",
       "      <td>3993.000000</td>\n",
       "      <td>3993.000000</td>\n",
       "      <td>3993.000000</td>\n",
       "      <td>3993.000000</td>\n",
       "      <td>3993.000000</td>\n",
       "      <td>3993.000000</td>\n",
       "      <td>3993.000000</td>\n",
       "    </tr>\n",
       "    <tr>\n",
       "      <th>mean</th>\n",
       "      <td>98929.308039</td>\n",
       "      <td>1158.437751</td>\n",
       "      <td>351.622840</td>\n",
       "      <td>400.713248</td>\n",
       "      <td>399.876283</td>\n",
       "      <td>444.732031</td>\n",
       "      <td>16456.413724</td>\n",
       "      <td>11.785117</td>\n",
       "      <td>15.665036</td>\n",
       "    </tr>\n",
       "    <tr>\n",
       "      <th>std</th>\n",
       "      <td>58179.839090</td>\n",
       "      <td>1033.485773</td>\n",
       "      <td>168.488445</td>\n",
       "      <td>180.568500</td>\n",
       "      <td>164.822741</td>\n",
       "      <td>175.004178</td>\n",
       "      <td>9455.318118</td>\n",
       "      <td>10.172672</td>\n",
       "      <td>12.703041</td>\n",
       "    </tr>\n",
       "    <tr>\n",
       "      <th>min</th>\n",
       "      <td>12.000000</td>\n",
       "      <td>0.000000</td>\n",
       "      <td>0.000000</td>\n",
       "      <td>0.000000</td>\n",
       "      <td>0.000000</td>\n",
       "      <td>0.000000</td>\n",
       "      <td>0.000000</td>\n",
       "      <td>2.260870</td>\n",
       "      <td>1.000000</td>\n",
       "    </tr>\n",
       "    <tr>\n",
       "      <th>25%</th>\n",
       "      <td>46153.000000</td>\n",
       "      <td>548.000000</td>\n",
       "      <td>239.000000</td>\n",
       "      <td>284.000000</td>\n",
       "      <td>287.000000</td>\n",
       "      <td>325.000000</td>\n",
       "      <td>11136.000000</td>\n",
       "      <td>7.187500</td>\n",
       "      <td>10.000000</td>\n",
       "    </tr>\n",
       "    <tr>\n",
       "      <th>50%</th>\n",
       "      <td>101432.000000</td>\n",
       "      <td>803.000000</td>\n",
       "      <td>318.000000</td>\n",
       "      <td>366.000000</td>\n",
       "      <td>365.000000</td>\n",
       "      <td>410.000000</td>\n",
       "      <td>14356.000000</td>\n",
       "      <td>10.000000</td>\n",
       "      <td>14.000000</td>\n",
       "    </tr>\n",
       "    <tr>\n",
       "      <th>75%</th>\n",
       "      <td>151653.000000</td>\n",
       "      <td>1349.000000</td>\n",
       "      <td>425.000000</td>\n",
       "      <td>478.000000</td>\n",
       "      <td>480.000000</td>\n",
       "      <td>528.000000</td>\n",
       "      <td>18780.000000</td>\n",
       "      <td>14.428571</td>\n",
       "      <td>20.000000</td>\n",
       "    </tr>\n",
       "    <tr>\n",
       "      <th>max</th>\n",
       "      <td>191779.000000</td>\n",
       "      <td>5982.000000</td>\n",
       "      <td>1500.000000</td>\n",
       "      <td>1500.000000</td>\n",
       "      <td>1311.000000</td>\n",
       "      <td>1331.000000</td>\n",
       "      <td>174523.000000</td>\n",
       "      <td>450.000000</td>\n",
       "      <td>200.000000</td>\n",
       "    </tr>\n",
       "  </tbody>\n",
       "</table>\n",
       "</div>"
      ],
      "text/plain": [
       "                  id  median_home_val  median_household_income          ic2  \\\n",
       "count    3993.000000      3993.000000              3993.000000  3993.000000   \n",
       "mean    98929.308039      1158.437751               351.622840   400.713248   \n",
       "std     58179.839090      1033.485773               168.488445   180.568500   \n",
       "min        12.000000         0.000000                 0.000000     0.000000   \n",
       "25%     46153.000000       548.000000               239.000000   284.000000   \n",
       "50%    101432.000000       803.000000               318.000000   366.000000   \n",
       "75%    151653.000000      1349.000000               425.000000   478.000000   \n",
       "max    191779.000000      5982.000000              1500.000000  1500.000000   \n",
       "\n",
       "               ic3          ic4            ic5      avggift     target_d  \n",
       "count  3993.000000  3993.000000    3993.000000  3993.000000  3993.000000  \n",
       "mean    399.876283   444.732031   16456.413724    11.785117    15.665036  \n",
       "std     164.822741   175.004178    9455.318118    10.172672    12.703041  \n",
       "min       0.000000     0.000000       0.000000     2.260870     1.000000  \n",
       "25%     287.000000   325.000000   11136.000000     7.187500    10.000000  \n",
       "50%     365.000000   410.000000   14356.000000    10.000000    14.000000  \n",
       "75%     480.000000   528.000000   18780.000000    14.428571    20.000000  \n",
       "max    1311.000000  1331.000000  174523.000000   450.000000   200.000000  "
      ]
     },
     "execution_count": 5,
     "metadata": {},
     "output_type": "execute_result"
    }
   ],
   "source": [
    "data.describe(include=[np.number])"
   ]
  },
  {
   "cell_type": "code",
   "execution_count": 6,
   "metadata": {},
   "outputs": [
    {
     "data": {
      "text/html": [
       "<div>\n",
       "<style scoped>\n",
       "    .dataframe tbody tr th:only-of-type {\n",
       "        vertical-align: middle;\n",
       "    }\n",
       "\n",
       "    .dataframe tbody tr th {\n",
       "        vertical-align: top;\n",
       "    }\n",
       "\n",
       "    .dataframe thead th {\n",
       "        text-align: right;\n",
       "    }\n",
       "</style>\n",
       "<table border=\"1\" class=\"dataframe\">\n",
       "  <thead>\n",
       "    <tr style=\"text-align: right;\">\n",
       "      <th></th>\n",
       "      <th>count</th>\n",
       "      <th>mean</th>\n",
       "      <th>std</th>\n",
       "      <th>min</th>\n",
       "      <th>25%</th>\n",
       "      <th>50%</th>\n",
       "      <th>75%</th>\n",
       "      <th>max</th>\n",
       "      <th>iqr</th>\n",
       "    </tr>\n",
       "  </thead>\n",
       "  <tbody>\n",
       "    <tr>\n",
       "      <th>id</th>\n",
       "      <td>3993.0</td>\n",
       "      <td>98929.308039</td>\n",
       "      <td>58179.839090</td>\n",
       "      <td>12.00000</td>\n",
       "      <td>46153.0000</td>\n",
       "      <td>101432.0</td>\n",
       "      <td>151653.000000</td>\n",
       "      <td>191779.0</td>\n",
       "      <td>105500.000000</td>\n",
       "    </tr>\n",
       "    <tr>\n",
       "      <th>median_home_val</th>\n",
       "      <td>3993.0</td>\n",
       "      <td>1158.437751</td>\n",
       "      <td>1033.485773</td>\n",
       "      <td>0.00000</td>\n",
       "      <td>548.0000</td>\n",
       "      <td>803.0</td>\n",
       "      <td>1349.000000</td>\n",
       "      <td>5982.0</td>\n",
       "      <td>801.000000</td>\n",
       "    </tr>\n",
       "    <tr>\n",
       "      <th>median_household_income</th>\n",
       "      <td>3993.0</td>\n",
       "      <td>351.622840</td>\n",
       "      <td>168.488445</td>\n",
       "      <td>0.00000</td>\n",
       "      <td>239.0000</td>\n",
       "      <td>318.0</td>\n",
       "      <td>425.000000</td>\n",
       "      <td>1500.0</td>\n",
       "      <td>186.000000</td>\n",
       "    </tr>\n",
       "    <tr>\n",
       "      <th>ic2</th>\n",
       "      <td>3993.0</td>\n",
       "      <td>400.713248</td>\n",
       "      <td>180.568500</td>\n",
       "      <td>0.00000</td>\n",
       "      <td>284.0000</td>\n",
       "      <td>366.0</td>\n",
       "      <td>478.000000</td>\n",
       "      <td>1500.0</td>\n",
       "      <td>194.000000</td>\n",
       "    </tr>\n",
       "    <tr>\n",
       "      <th>ic3</th>\n",
       "      <td>3993.0</td>\n",
       "      <td>399.876283</td>\n",
       "      <td>164.822741</td>\n",
       "      <td>0.00000</td>\n",
       "      <td>287.0000</td>\n",
       "      <td>365.0</td>\n",
       "      <td>480.000000</td>\n",
       "      <td>1311.0</td>\n",
       "      <td>193.000000</td>\n",
       "    </tr>\n",
       "    <tr>\n",
       "      <th>ic4</th>\n",
       "      <td>3993.0</td>\n",
       "      <td>444.732031</td>\n",
       "      <td>175.004178</td>\n",
       "      <td>0.00000</td>\n",
       "      <td>325.0000</td>\n",
       "      <td>410.0</td>\n",
       "      <td>528.000000</td>\n",
       "      <td>1331.0</td>\n",
       "      <td>203.000000</td>\n",
       "    </tr>\n",
       "    <tr>\n",
       "      <th>ic5</th>\n",
       "      <td>3993.0</td>\n",
       "      <td>16456.413724</td>\n",
       "      <td>9455.318118</td>\n",
       "      <td>0.00000</td>\n",
       "      <td>11136.0000</td>\n",
       "      <td>14356.0</td>\n",
       "      <td>18780.000000</td>\n",
       "      <td>174523.0</td>\n",
       "      <td>7644.000000</td>\n",
       "    </tr>\n",
       "    <tr>\n",
       "      <th>avggift</th>\n",
       "      <td>3993.0</td>\n",
       "      <td>11.785117</td>\n",
       "      <td>10.172672</td>\n",
       "      <td>2.26087</td>\n",
       "      <td>7.1875</td>\n",
       "      <td>10.0</td>\n",
       "      <td>14.428571</td>\n",
       "      <td>450.0</td>\n",
       "      <td>7.241071</td>\n",
       "    </tr>\n",
       "    <tr>\n",
       "      <th>target_d</th>\n",
       "      <td>3993.0</td>\n",
       "      <td>15.665036</td>\n",
       "      <td>12.703041</td>\n",
       "      <td>1.00000</td>\n",
       "      <td>10.0000</td>\n",
       "      <td>14.0</td>\n",
       "      <td>20.000000</td>\n",
       "      <td>200.0</td>\n",
       "      <td>10.000000</td>\n",
       "    </tr>\n",
       "  </tbody>\n",
       "</table>\n",
       "</div>"
      ],
      "text/plain": [
       "                          count          mean           std       min  \\\n",
       "id                       3993.0  98929.308039  58179.839090  12.00000   \n",
       "median_home_val          3993.0   1158.437751   1033.485773   0.00000   \n",
       "median_household_income  3993.0    351.622840    168.488445   0.00000   \n",
       "ic2                      3993.0    400.713248    180.568500   0.00000   \n",
       "ic3                      3993.0    399.876283    164.822741   0.00000   \n",
       "ic4                      3993.0    444.732031    175.004178   0.00000   \n",
       "ic5                      3993.0  16456.413724   9455.318118   0.00000   \n",
       "avggift                  3993.0     11.785117     10.172672   2.26087   \n",
       "target_d                 3993.0     15.665036     12.703041   1.00000   \n",
       "\n",
       "                                25%       50%            75%       max  \\\n",
       "id                       46153.0000  101432.0  151653.000000  191779.0   \n",
       "median_home_val            548.0000     803.0    1349.000000    5982.0   \n",
       "median_household_income    239.0000     318.0     425.000000    1500.0   \n",
       "ic2                        284.0000     366.0     478.000000    1500.0   \n",
       "ic3                        287.0000     365.0     480.000000    1311.0   \n",
       "ic4                        325.0000     410.0     528.000000    1331.0   \n",
       "ic5                      11136.0000   14356.0   18780.000000  174523.0   \n",
       "avggift                      7.1875      10.0      14.428571     450.0   \n",
       "target_d                    10.0000      14.0      20.000000     200.0   \n",
       "\n",
       "                                   iqr  \n",
       "id                       105500.000000  \n",
       "median_home_val             801.000000  \n",
       "median_household_income     186.000000  \n",
       "ic2                         194.000000  \n",
       "ic3                         193.000000  \n",
       "ic4                         203.000000  \n",
       "ic5                        7644.000000  \n",
       "avggift                       7.241071  \n",
       "target_d                     10.000000  "
      ]
     },
     "execution_count": 6,
     "metadata": {},
     "output_type": "execute_result"
    }
   ],
   "source": [
    "#make a statistics summary df with transpose #create a new df with summary stat\n",
    "summary = data.describe().T\n",
    "#calculate the interquartile range as a new column # like boxplot\n",
    "summary['iqr'] = summary['75%']-summary['25%']\n",
    "summary"
   ]
  },
  {
   "cell_type": "code",
   "execution_count": null,
   "metadata": {},
   "outputs": [],
   "source": []
  },
  {
   "cell_type": "markdown",
   "metadata": {},
   "source": [
    "### Exploratory data analysis using matplotlib"
   ]
  },
  {
   "cell_type": "code",
   "execution_count": 7,
   "metadata": {},
   "outputs": [
    {
     "name": "stderr",
     "output_type": "stream",
     "text": [
      "UsageError: unrecognized arguments: #all the plots will stack to thge notebook\n"
     ]
    }
   ],
   "source": [
    "import matplotlib.pyplot as plt\n",
    "import seaborn as sns\n",
    "%matplotlib inline #all the plots will stack to thge notebook"
   ]
  },
  {
   "cell_type": "code",
   "execution_count": 8,
   "metadata": {},
   "outputs": [
    {
     "data": {
      "image/png": "[encoded data removed]",
      "text/plain": [
       "<Figure size 432x288 with 1 Axes>"
      ]
     },
     "metadata": {
      "needs_background": "light"
     },
     "output_type": "display_data"
    }
   ],
   "source": [
    "plt.scatter(x=data['ic2'], y=data['ic3'])\n",
    "plt.show()"
   ]
  },
  {
   "cell_type": "code",
   "execution_count": 9,
   "metadata": {},
   "outputs": [
    {
     "data": {
      "image/png": "[encoded data removed]",
      "text/plain": [
       "<Figure size 432x288 with 1 Axes>"
      ]
     },
     "metadata": {
      "needs_background": "light"
     },
     "output_type": "display_data"
    }
   ],
   "source": [
    "data['median_household_income'].hist()\n",
    "plt.show()"
   ]
  },
  {
   "cell_type": "code",
   "execution_count": 10,
   "metadata": {},
   "outputs": [
    {
     "data": {
      "image/png": "[encoded data removed]",
      "text/plain": [
       "<Figure size 432x288 with 1 Axes>"
      ]
     },
     "metadata": {
      "needs_background": "light"
     },
     "output_type": "display_data"
    }
   ],
   "source": [
    "data['median_home_val'].hist(bins=30)\n",
    "plt.show()"
   ]
  },
  {
   "cell_type": "code",
   "execution_count": 11,
   "metadata": {},
   "outputs": [
    {
     "data": {
      "image/png": "[encoded data removed]",
      "text/plain": [
       "<Figure size 432x288 with 1 Axes>"
      ]
     },
     "metadata": {
      "needs_background": "light"
     },
     "output_type": "display_data"
    }
   ],
   "source": [
    "sns.distplot(data['median_home_val'], bins=20)\n",
    "plt.show()"
   ]
  },
  {
   "cell_type": "code",
   "execution_count": 12,
   "metadata": {},
   "outputs": [
    {
     "data": {
      "image/png": "[encoded data removed]",
      "text/plain": [
       "<Figure size 432x288 with 1 Axes>"
      ]
     },
     "metadata": {
      "needs_background": "light"
     },
     "output_type": "display_data"
    }
   ],
   "source": [
    "data[['median_home_val']].boxplot()\n",
    "plt.show()"
   ]
  },
  {
   "cell_type": "code",
   "execution_count": 13,
   "metadata": {},
   "outputs": [
    {
     "data": {
      "image/png": "[encoded data removed]",
      "text/plain": [
       "<Figure size 432x288 with 1 Axes>"
      ]
     },
     "metadata": {
      "needs_background": "light"
     },
     "output_type": "display_data"
    }
   ],
   "source": [
    "sns.boxplot(y=\"median_home_val\", data=data)\n",
    "plt.show()"
   ]
  },
  {
   "cell_type": "code",
   "execution_count": 14,
   "metadata": {},
   "outputs": [
    {
     "data": {
      "image/png": "[encoded data removed]",
      "text/plain": [
       "<Figure size 432x288 with 1 Axes>"
      ]
     },
     "metadata": {
      "needs_background": "light"
     },
     "output_type": "display_data"
    }
   ],
   "source": [
    "sns.boxplot(x = 'gender',y='median_home_val', data=data)\n",
    "plt.show()"
   ]
  },
  {
   "cell_type": "code",
   "execution_count": 15,
   "metadata": {},
   "outputs": [
    {
     "data": {
      "image/png": "[encoded data removed]",
      "text/plain": [
       "<Figure size 432x288 with 1 Axes>"
      ]
     },
     "metadata": {
      "needs_background": "light"
     },
     "output_type": "display_data"
    }
   ],
   "source": [
    "sns.barplot(x=\"gender\", y=\"median_home_val\", data=data)\n",
    "plt.show()"
   ]
  },
  {
   "cell_type": "code",
   "execution_count": null,
   "metadata": {},
   "outputs": [],
   "source": []
  },
  {
   "cell_type": "markdown",
   "metadata": {},
   "source": [
    "### Correlation"
   ]
  },
  {
   "cell_type": "code",
   "execution_count": 16,
   "metadata": {},
   "outputs": [
    {
     "data": {
      "image/png": "[encoded data removed]",
      "text/plain": [
       "<Figure size 432x288 with 1 Axes>"
      ]
     },
     "metadata": {
      "needs_background": "light"
     },
     "output_type": "display_data"
    }
   ],
   "source": [
    "#review correlation of two selected variables \n",
    "plt.scatter(x=data['ic2'], y=data['ic3'])\n",
    "plt.show()"
   ]
  },
  {
   "cell_type": "code",
   "execution_count": 17,
   "metadata": {},
   "outputs": [],
   "source": [
    "#bring in the scipy library - The scientific python library\n",
    "# an open-source Python library which is used to solve scientific and mathematical problems. \n",
    "# It is built on the NumPy extension and allows the user to manipulate and visualize data.\n",
    "import scipy.stats as stats"
   ]
  },
  {
   "cell_type": "code",
   "execution_count": 18,
   "metadata": {},
   "outputs": [
    {
     "data": {
      "text/plain": [
       "(0.9535853403294168, 0.0)"
      ]
     },
     "execution_count": 18,
     "metadata": {},
     "output_type": "execute_result"
    }
   ],
   "source": [
    "x=data['ic2']\n",
    "y=data['ic3']\n",
    "stats.pearsonr(x, y) # gives correlation coefficient and the p value "
   ]
  },
  {
   "cell_type": "code",
   "execution_count": 19,
   "metadata": {},
   "outputs": [
    {
     "data": {
      "text/plain": [
       "SpearmanrResult(correlation=0.9510617375454639, pvalue=0.0)"
      ]
     },
     "execution_count": 19,
     "metadata": {},
     "output_type": "execute_result"
    }
   ],
   "source": [
    "stats.spearmanr(x, y)"
   ]
  },
  {
   "cell_type": "code",
   "execution_count": 20,
   "metadata": {},
   "outputs": [
    {
     "data": {
      "text/plain": [
       "KendalltauResult(correlation=0.8254641303546064, pvalue=0.0)"
      ]
     },
     "execution_count": 20,
     "metadata": {},
     "output_type": "execute_result"
    }
   ],
   "source": [
    "stats.kendalltau(x, y)"
   ]
  },
  {
   "cell_type": "code",
   "execution_count": 21,
   "metadata": {},
   "outputs": [
    {
     "data": {
      "text/html": [
       "<div>\n",
       "<style scoped>\n",
       "    .dataframe tbody tr th:only-of-type {\n",
       "        vertical-align: middle;\n",
       "    }\n",
       "\n",
       "    .dataframe tbody tr th {\n",
       "        vertical-align: top;\n",
       "    }\n",
       "\n",
       "    .dataframe thead th {\n",
       "        text-align: right;\n",
       "    }\n",
       "</style>\n",
       "<table border=\"1\" class=\"dataframe\">\n",
       "  <thead>\n",
       "    <tr style=\"text-align: right;\">\n",
       "      <th></th>\n",
       "      <th>median_home_val</th>\n",
       "      <th>median_household_income</th>\n",
       "      <th>ic2</th>\n",
       "      <th>ic3</th>\n",
       "      <th>ic4</th>\n",
       "      <th>ic5</th>\n",
       "      <th>avggift</th>\n",
       "      <th>target_d</th>\n",
       "    </tr>\n",
       "  </thead>\n",
       "  <tbody>\n",
       "    <tr>\n",
       "      <th>median_home_val</th>\n",
       "      <td>1.000000</td>\n",
       "      <td>0.707209</td>\n",
       "      <td>0.743318</td>\n",
       "      <td>0.734526</td>\n",
       "      <td>0.748761</td>\n",
       "      <td>0.745223</td>\n",
       "      <td>0.138966</td>\n",
       "      <td>0.116805</td>\n",
       "    </tr>\n",
       "    <tr>\n",
       "      <th>median_household_income</th>\n",
       "      <td>0.707209</td>\n",
       "      <td>1.000000</td>\n",
       "      <td>0.951409</td>\n",
       "      <td>0.974777</td>\n",
       "      <td>0.928980</td>\n",
       "      <td>0.805221</td>\n",
       "      <td>0.120445</td>\n",
       "      <td>0.113246</td>\n",
       "    </tr>\n",
       "    <tr>\n",
       "      <th>ic2</th>\n",
       "      <td>0.743318</td>\n",
       "      <td>0.951409</td>\n",
       "      <td>1.000000</td>\n",
       "      <td>0.953585</td>\n",
       "      <td>0.971498</td>\n",
       "      <td>0.874783</td>\n",
       "      <td>0.136096</td>\n",
       "      <td>0.129964</td>\n",
       "    </tr>\n",
       "    <tr>\n",
       "      <th>ic3</th>\n",
       "      <td>0.734526</td>\n",
       "      <td>0.974777</td>\n",
       "      <td>0.953585</td>\n",
       "      <td>1.000000</td>\n",
       "      <td>0.971909</td>\n",
       "      <td>0.827514</td>\n",
       "      <td>0.125438</td>\n",
       "      <td>0.121965</td>\n",
       "    </tr>\n",
       "    <tr>\n",
       "      <th>ic4</th>\n",
       "      <td>0.748761</td>\n",
       "      <td>0.928980</td>\n",
       "      <td>0.971498</td>\n",
       "      <td>0.971909</td>\n",
       "      <td>1.000000</td>\n",
       "      <td>0.868411</td>\n",
       "      <td>0.132438</td>\n",
       "      <td>0.131260</td>\n",
       "    </tr>\n",
       "    <tr>\n",
       "      <th>ic5</th>\n",
       "      <td>0.745223</td>\n",
       "      <td>0.805221</td>\n",
       "      <td>0.874783</td>\n",
       "      <td>0.827514</td>\n",
       "      <td>0.868411</td>\n",
       "      <td>1.000000</td>\n",
       "      <td>0.141580</td>\n",
       "      <td>0.137878</td>\n",
       "    </tr>\n",
       "    <tr>\n",
       "      <th>avggift</th>\n",
       "      <td>0.138966</td>\n",
       "      <td>0.120445</td>\n",
       "      <td>0.136096</td>\n",
       "      <td>0.125438</td>\n",
       "      <td>0.132438</td>\n",
       "      <td>0.141580</td>\n",
       "      <td>1.000000</td>\n",
       "      <td>0.487595</td>\n",
       "    </tr>\n",
       "    <tr>\n",
       "      <th>target_d</th>\n",
       "      <td>0.116805</td>\n",
       "      <td>0.113246</td>\n",
       "      <td>0.129964</td>\n",
       "      <td>0.121965</td>\n",
       "      <td>0.131260</td>\n",
       "      <td>0.137878</td>\n",
       "      <td>0.487595</td>\n",
       "      <td>1.000000</td>\n",
       "    </tr>\n",
       "  </tbody>\n",
       "</table>\n",
       "</div>"
      ],
      "text/plain": [
       "                         median_home_val  median_household_income       ic2  \\\n",
       "median_home_val                 1.000000                 0.707209  0.743318   \n",
       "median_household_income         0.707209                 1.000000  0.951409   \n",
       "ic2                             0.743318                 0.951409  1.000000   \n",
       "ic3                             0.734526                 0.974777  0.953585   \n",
       "ic4                             0.748761                 0.928980  0.971498   \n",
       "ic5                             0.745223                 0.805221  0.874783   \n",
       "avggift                         0.138966                 0.120445  0.136096   \n",
       "target_d                        0.116805                 0.113246  0.129964   \n",
       "\n",
       "                              ic3       ic4       ic5   avggift  target_d  \n",
       "median_home_val          0.734526  0.748761  0.745223  0.138966  0.116805  \n",
       "median_household_income  0.974777  0.928980  0.805221  0.120445  0.113246  \n",
       "ic2                      0.953585  0.971498  0.874783  0.136096  0.129964  \n",
       "ic3                      1.000000  0.971909  0.827514  0.125438  0.121965  \n",
       "ic4                      0.971909  1.000000  0.868411  0.132438  0.131260  \n",
       "ic5                      0.827514  0.868411  1.000000  0.141580  0.137878  \n",
       "avggift                  0.125438  0.132438  0.141580  1.000000  0.487595  \n",
       "target_d                 0.121965  0.131260  0.137878  0.487595  1.000000  "
      ]
     },
     "execution_count": 21,
     "metadata": {},
     "output_type": "execute_result"
    }
   ],
   "source": [
    "#create a correlation matrix of numerical columns \n",
    "\n",
    "corr_data = data.drop(['id','state', 'gender'], axis=1)\n",
    "correlations_matrix = corr_data.corr()\n",
    "correlations_matrix"
   ]
  },
  {
   "cell_type": "code",
   "execution_count": 22,
   "metadata": {},
   "outputs": [
    {
     "data": {
      "image/png": "[encoded data removed]",
      "text/plain": [
       "<Figure size 432x288 with 2 Axes>"
      ]
     },
     "metadata": {
      "needs_background": "light"
     },
     "output_type": "display_data"
    }
   ],
   "source": [
    "#create a heatmap \n",
    "sns.heatmap(correlations_matrix, annot=True)\n",
    "plt.show()"
   ]
  },
  {
   "cell_type": "code",
   "execution_count": 23,
   "metadata": {},
   "outputs": [
    {
     "data": {
      "image/png": "[encoded data removed]",
      "text/plain": [
       "<Figure size 720x576 with 2 Axes>"
      ]
     },
     "metadata": {
      "needs_background": "light"
     },
     "output_type": "display_data"
    }
   ],
   "source": [
    "#use the mask technique to make it easier to read \n",
    "mask = np.zeros_like(correlations_matrix)\n",
    "mask[np.triu_indices_from(mask)] = True\n",
    "fig, ax = plt.subplots(figsize=(10, 8))\n",
    "ax = sns.heatmap(correlations_matrix, mask=mask, annot=True)\n",
    "plt.show()"
   ]
  },
  {
   "cell_type": "code",
   "execution_count": null,
   "metadata": {},
   "outputs": [],
   "source": []
  }
 ],
 "metadata": {
  "kernelspec": {
   "display_name": "Python 3",
   "language": "python",
   "name": "python3"
  },
  "language_info": {
   "codemirror_mode": {
    "name": "ipython",
    "version": 3
   },
   "file_extension": ".py",
   "mimetype": "text/x-python",
   "name": "python",
   "nbconvert_exporter": "python",
   "pygments_lexer": "ipython3",
   "version": "3.9.2"
  }
 },
 "nbformat": 4,
 "nbformat_minor": 2
}
